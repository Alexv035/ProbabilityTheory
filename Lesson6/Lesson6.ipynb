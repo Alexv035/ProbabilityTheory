{
 "cells": [
  {
   "cell_type": "markdown",
   "metadata": {
    "colab_type": "text",
    "id": "G2wMw7vtsFIu"
   },
   "source": [
    "## Домашнее задание 6\n",
    "\n",
    "### Взаимосвязь величин. Параметрические и непараметрические показатели корреляции. \n",
    "\n",
    "### Корреляционный анализ"
   ]
  },
  {
   "cell_type": "markdown",
   "metadata": {
    "colab_type": "text",
    "id": "Rc3tqLLnsFIw"
   },
   "source": [
    "#### 1. Доходность двух активов за 8 периодов представлена в таблице:"
   ]
  },
  {
   "cell_type": "code",
   "execution_count": 226,
   "metadata": {},
   "outputs": [],
   "source": [
    "import pandas as pd\n",
    "import numpy as np\n",
    "import math"
   ]
  },
  {
   "cell_type": "code",
   "execution_count": 227,
   "metadata": {},
   "outputs": [],
   "source": [
    "tabledata = [[1, 12, 14],\n",
    "         [2, 10, 18],\n",
    "         [3, 10, 13],\n",
    "         [4, 8, 10],\n",
    "         [5, -5, 12],\n",
    "         [6, -3, -7],\n",
    "         [7, 10, -2],\n",
    "         [8, 7, 10]]"
   ]
  },
  {
   "cell_type": "code",
   "execution_count": 228,
   "metadata": {
    "scrolled": true
   },
   "outputs": [],
   "source": [
    "df=pd.DataFrame(tabledata, columns=[\"Периоды\",\"Доходность актива Х\", \"Доходность актива Y\"])"
   ]
  },
  {
   "cell_type": "markdown",
   "metadata": {
    "colab_type": "text",
    "id": "Rc3tqLLnsFIw"
   },
   "source": [
    "#### Определить коэффициент корреляции доходностей активов X и У."
   ]
  },
  {
   "cell_type": "code",
   "execution_count": 229,
   "metadata": {},
   "outputs": [
    {
     "data": {
      "text/html": [
       "<div>\n",
       "<style scoped>\n",
       "    .dataframe tbody tr th:only-of-type {\n",
       "        vertical-align: middle;\n",
       "    }\n",
       "\n",
       "    .dataframe tbody tr th {\n",
       "        vertical-align: top;\n",
       "    }\n",
       "\n",
       "    .dataframe thead th {\n",
       "        text-align: right;\n",
       "    }\n",
       "</style>\n",
       "<table border=\"1\" class=\"dataframe\">\n",
       "  <thead>\n",
       "    <tr style=\"text-align: right;\">\n",
       "      <th></th>\n",
       "      <th>Доходность актива Х</th>\n",
       "      <th>Доходность актива Y</th>\n",
       "    </tr>\n",
       "  </thead>\n",
       "  <tbody>\n",
       "    <tr>\n",
       "      <th>Доходность актива Х</th>\n",
       "      <td>1.000000</td>\n",
       "      <td>0.396721</td>\n",
       "    </tr>\n",
       "    <tr>\n",
       "      <th>Доходность актива Y</th>\n",
       "      <td>0.396721</td>\n",
       "      <td>1.000000</td>\n",
       "    </tr>\n",
       "  </tbody>\n",
       "</table>\n",
       "</div>"
      ],
      "text/plain": [
       "                     Доходность актива Х  Доходность актива Y\n",
       "Доходность актива Х             1.000000             0.396721\n",
       "Доходность актива Y             0.396721             1.000000"
      ]
     },
     "execution_count": 229,
     "metadata": {},
     "output_type": "execute_result"
    }
   ],
   "source": [
    "corr_matrix = df.loc[:, [\"Доходность актива Х\", \"Доходность актива Y\"]].corr()\n",
    "corr_matrix"
   ]
  },
  {
   "cell_type": "markdown",
   "metadata": {
    "colab_type": "text",
    "id": "Rc3tqLLnsFIw"
   },
   "source": [
    "#### 2. Дана корелляционная  таблица случайного вектора (X,Y). Вычислите ковариацию cov(X,Y)."
   ]
  },
  {
   "cell_type": "code",
   "execution_count": 230,
   "metadata": {},
   "outputs": [],
   "source": [
    "tabledata = [[-2, 0.1, 0, 0.2],\n",
    "         [0, 0.05, 0.2, 0],\n",
    "         [1, 0, 0.2, 0.05],\n",
    "         [7, 0.1, 0, 0.1]]"
   ]
  },
  {
   "cell_type": "code",
   "execution_count": 231,
   "metadata": {
    "scrolled": true
   },
   "outputs": [],
   "source": [
    "pd.DataFrame(tabledata, columns=[\"X/Y\",\"-6\", \" 0\", \"3\"])\n",
    "x2 = [-6,0,3]"
   ]
  },
  {
   "cell_type": "code",
   "execution_count": 232,
   "metadata": {},
   "outputs": [],
   "source": [
    "df = pd.DataFrame(tabledata, columns=[\"X/Y\",\"-6\", \" 0\", \"3\"])"
   ]
  },
  {
   "cell_type": "code",
   "execution_count": 233,
   "metadata": {},
   "outputs": [],
   "source": [
    "xd = df.drop(['X/Y'], axis = 1)"
   ]
  },
  {
   "cell_type": "code",
   "execution_count": 234,
   "metadata": {},
   "outputs": [],
   "source": [
    "y = xd.sum(axis=1)\n",
    "x= df['X/Y']"
   ]
  },
  {
   "cell_type": "code",
   "execution_count": 235,
   "metadata": {},
   "outputs": [
    {
     "data": {
      "text/plain": [
       "1.05"
      ]
     },
     "execution_count": 235,
     "metadata": {},
     "output_type": "execute_result"
    }
   ],
   "source": [
    "# Математическое ожидание M[X]\n",
    "MX = np.dot(x,y)\n",
    "MX"
   ]
  },
  {
   "cell_type": "code",
   "execution_count": 236,
   "metadata": {},
   "outputs": [
    {
     "data": {
      "text/plain": [
       "10.1475"
      ]
     },
     "execution_count": 236,
     "metadata": {},
     "output_type": "execute_result"
    }
   ],
   "source": [
    "# Дисперсия D[X]\n",
    "x3 = x**2\n",
    "DX = np.dot(x3,y)-MX**2\n",
    "DX"
   ]
  },
  {
   "cell_type": "code",
   "execution_count": 237,
   "metadata": {},
   "outputs": [
    {
     "data": {
      "text/plain": [
       "3.1855140872392953"
      ]
     },
     "execution_count": 237,
     "metadata": {},
     "output_type": "execute_result"
    }
   ],
   "source": [
    "# Среднее квадратическое отклонение σ(x)\n",
    "SX = math.sqrt(DX)\n",
    "SX"
   ]
  },
  {
   "cell_type": "code",
   "execution_count": 257,
   "metadata": {},
   "outputs": [],
   "source": [
    "xdl = xd.T"
   ]
  },
  {
   "cell_type": "code",
   "execution_count": 242,
   "metadata": {},
   "outputs": [],
   "source": [
    "y = xdl.sum(axis=1)\n",
    "xx = pd.DataFrame(xdl.index, columns=['index'])\n",
    "xt = xx['index']\n",
    "xt = pd.to_numeric(xt)"
   ]
  },
  {
   "cell_type": "code",
   "execution_count": 243,
   "metadata": {},
   "outputs": [
    {
     "data": {
      "text/plain": [
       "-0.4500000000000002"
      ]
     },
     "execution_count": 243,
     "metadata": {},
     "output_type": "execute_result"
    }
   ],
   "source": [
    "# Математическое ожидание M[Y]\n",
    "MY = np.dot(xt,y)\n",
    "MY"
   ]
  },
  {
   "cell_type": "code",
   "execution_count": 244,
   "metadata": {},
   "outputs": [
    {
     "data": {
      "text/plain": [
       "11.9475"
      ]
     },
     "execution_count": 244,
     "metadata": {},
     "output_type": "execute_result"
    }
   ],
   "source": [
    "# Дисперсия D[Y]\n",
    "x4 = xt**2\n",
    "DY = np.dot(x4,y)-MY**2\n",
    "DY"
   ]
  },
  {
   "cell_type": "code",
   "execution_count": 245,
   "metadata": {},
   "outputs": [
    {
     "data": {
      "text/plain": [
       "3.4565155865408737"
      ]
     },
     "execution_count": 245,
     "metadata": {},
     "output_type": "execute_result"
    }
   ],
   "source": [
    "# Среднее квадратическое отклонение σ(y)\n",
    "SY = math.sqrt(DY)\n",
    "SY"
   ]
  },
  {
   "cell_type": "code",
   "execution_count": 253,
   "metadata": {},
   "outputs": [],
   "source": [
    "y0 = xd.loc[0]\n",
    "y1 = xd.loc[1]\n",
    "y2 = xd.loc[2]\n",
    "y3 = xd.loc[3]"
   ]
  },
  {
   "cell_type": "code",
   "execution_count": 258,
   "metadata": {},
   "outputs": [
    {
     "data": {
      "text/plain": [
       "-1.4775000000000003"
      ]
     },
     "execution_count": 258,
     "metadata": {},
     "output_type": "execute_result"
    }
   ],
   "source": [
    "# Ковариация.\n",
    "# cov(X,Y) = M[X•Y] - M[X]•M[Y]\n",
    "CV = np.dot(xt,y0)*x[0]+np.dot(xt,y1)*x[1]+np.dot(xt,y2)*x[2]+np.dot(xt,y3)*x[3]-MX*MY\n",
    "CV"
   ]
  },
  {
   "cell_type": "markdown",
   "metadata": {},
   "source": [
    "3. Определите коэффициент корреляции из № 2."
   ]
  },
  {
   "cell_type": "code",
   "execution_count": 259,
   "metadata": {},
   "outputs": [
    {
     "data": {
      "text/plain": [
       "-0.13418668991797017"
      ]
     },
     "execution_count": 259,
     "metadata": {},
     "output_type": "execute_result"
    }
   ],
   "source": [
    "# Коэффициент корреляции\n",
    "r = CV/(SX*SY)\n",
    "r"
   ]
  },
  {
   "cell_type": "markdown",
   "metadata": {
    "colab_type": "text",
    "id": "Rc3tqLLnsFIw"
   },
   "source": [
    "4. Приведите примеры положительной корелляции из практики (5 примеров).\n",
    "a) Длинее путь, дольше ехать\n",
    "b) Среднеземная температура и количество раставишего льда на полюсах Земли\n",
    "c) Качество материалов и срок жизни оборудования или продукции\n",
    "d) Качество воды и продуктов питания и здоровье людей-продолжительность жизни\n",
    "e) жил площадь человека - удовлетворенность жизнью"
   ]
  },
  {
   "cell_type": "markdown",
   "metadata": {
    "colab_type": "text",
    "id": "Rc3tqLLnsFIw"
   },
   "source": [
    "#### 5. Приведите примеры отрицательной корелляции  из практики (5 примеров)."
   ]
  },
  {
   "cell_type": "code",
   "execution_count": null,
   "metadata": {},
   "outputs": [],
   "source": [
    "Количество жиров в принимаемой пищи и здоровье человека\n",
    "количество часов в пробке и самочувствие человека\n",
    "доход человека и качество покупаемых продуктов\n",
    "Более высокоскоростной процессор меньше времении на обработку задач\n",
    "больше времени затраченного на физические упражнения меньше болезней"
   ]
  }
 ],
 "metadata": {
  "colab": {
   "name": "Матстат - Урок 1.ipynb",
   "provenance": []
  },
  "kernelspec": {
   "display_name": "Python 3",
   "language": "python",
   "name": "python3"
  },
  "language_info": {
   "codemirror_mode": {
    "name": "ipython",
    "version": 3
   },
   "file_extension": ".py",
   "mimetype": "text/x-python",
   "name": "python",
   "nbconvert_exporter": "python",
   "pygments_lexer": "ipython3",
   "version": "3.8.3"
  }
 },
 "nbformat": 4,
 "nbformat_minor": 1
}
